{
 "cells": [
  {
   "cell_type": "code",
   "execution_count": 43,
   "metadata": {},
   "outputs": [],
   "source": [
    "import pandas as pd\n",
    "import numpy as np\n",
    "df = pd.read_csv('taxi.csv', index_col = 'Unnamed: 0')"
   ]
  },
  {
   "cell_type": "code",
   "execution_count": 44,
   "metadata": {},
   "outputs": [
    {
     "data": {
      "text/html": [
       "<div>\n",
       "<style scoped>\n",
       "    .dataframe tbody tr th:only-of-type {\n",
       "        vertical-align: middle;\n",
       "    }\n",
       "\n",
       "    .dataframe tbody tr th {\n",
       "        vertical-align: top;\n",
       "    }\n",
       "\n",
       "    .dataframe thead th {\n",
       "        text-align: right;\n",
       "    }\n",
       "</style>\n",
       "<table border=\"1\" class=\"dataframe\">\n",
       "  <thead>\n",
       "    <tr style=\"text-align: right;\">\n",
       "      <th></th>\n",
       "      <th>count(1)</th>\n",
       "      <th>month</th>\n",
       "      <th>year</th>\n",
       "      <th>dayofweek</th>\n",
       "      <th>hour</th>\n",
       "      <th>pickup_community_area</th>\n",
       "    </tr>\n",
       "  </thead>\n",
       "  <tbody>\n",
       "    <tr>\n",
       "      <th>0</th>\n",
       "      <td>2742</td>\n",
       "      <td>11.0</td>\n",
       "      <td>2014.0</td>\n",
       "      <td>7.0</td>\n",
       "      <td>21.0</td>\n",
       "      <td>32.0</td>\n",
       "    </tr>\n",
       "    <tr>\n",
       "      <th>1</th>\n",
       "      <td>200</td>\n",
       "      <td>11.0</td>\n",
       "      <td>2014.0</td>\n",
       "      <td>6.0</td>\n",
       "      <td>23.0</td>\n",
       "      <td>77.0</td>\n",
       "    </tr>\n",
       "    <tr>\n",
       "      <th>2</th>\n",
       "      <td>110</td>\n",
       "      <td>4.0</td>\n",
       "      <td>2014.0</td>\n",
       "      <td>7.0</td>\n",
       "      <td>19.0</td>\n",
       "      <td>16.0</td>\n",
       "    </tr>\n",
       "    <tr>\n",
       "      <th>3</th>\n",
       "      <td>3205</td>\n",
       "      <td>12.0</td>\n",
       "      <td>2016.0</td>\n",
       "      <td>4.0</td>\n",
       "      <td>16.0</td>\n",
       "      <td>8.0</td>\n",
       "    </tr>\n",
       "    <tr>\n",
       "      <th>4</th>\n",
       "      <td>1159</td>\n",
       "      <td>12.0</td>\n",
       "      <td>2014.0</td>\n",
       "      <td>7.0</td>\n",
       "      <td>22.0</td>\n",
       "      <td>24.0</td>\n",
       "    </tr>\n",
       "  </tbody>\n",
       "</table>\n",
       "</div>"
      ],
      "text/plain": [
       "   count(1)  month    year  dayofweek  hour  pickup_community_area\n",
       "0      2742   11.0  2014.0        7.0  21.0                   32.0\n",
       "1       200   11.0  2014.0        6.0  23.0                   77.0\n",
       "2       110    4.0  2014.0        7.0  19.0                   16.0\n",
       "3      3205   12.0  2016.0        4.0  16.0                    8.0\n",
       "4      1159   12.0  2014.0        7.0  22.0                   24.0"
      ]
     },
     "execution_count": 44,
     "metadata": {},
     "output_type": "execute_result"
    }
   ],
   "source": [
    "df.head()"
   ]
  },
  {
   "cell_type": "code",
   "execution_count": 45,
   "metadata": {},
   "outputs": [
    {
     "data": {
      "text/plain": [
       "2876160"
      ]
     },
     "execution_count": 45,
     "metadata": {},
     "output_type": "execute_result"
    }
   ],
   "source": [
    "df.size"
   ]
  },
  {
   "cell_type": "code",
   "execution_count": 46,
   "metadata": {},
   "outputs": [
    {
     "data": {
      "text/plain": [
       "True"
      ]
     },
     "execution_count": 46,
     "metadata": {},
     "output_type": "execute_result"
    }
   ],
   "source": [
    "df.isnull().values.any()"
   ]
  },
  {
   "cell_type": "code",
   "execution_count": 47,
   "metadata": {},
   "outputs": [
    {
     "data": {
      "text/plain": [
       "count(1)                    0\n",
       "month                       1\n",
       "year                        1\n",
       "dayofweek                   1\n",
       "hour                        1\n",
       "pickup_community_area    9242\n",
       "dtype: int64"
      ]
     },
     "execution_count": 47,
     "metadata": {},
     "output_type": "execute_result"
    }
   ],
   "source": [
    "df.isnull().sum()"
   ]
  },
  {
   "cell_type": "code",
   "execution_count": 48,
   "metadata": {},
   "outputs": [],
   "source": [
    "df.rename(columns={'count(1)':'count'}, inplace=True)\n"
   ]
  },
  {
   "cell_type": "code",
   "execution_count": 49,
   "metadata": {},
   "outputs": [
    {
     "data": {
      "text/html": [
       "<div>\n",
       "<style scoped>\n",
       "    .dataframe tbody tr th:only-of-type {\n",
       "        vertical-align: middle;\n",
       "    }\n",
       "\n",
       "    .dataframe tbody tr th {\n",
       "        vertical-align: top;\n",
       "    }\n",
       "\n",
       "    .dataframe thead th {\n",
       "        text-align: right;\n",
       "    }\n",
       "</style>\n",
       "<table border=\"1\" class=\"dataframe\">\n",
       "  <thead>\n",
       "    <tr style=\"text-align: right;\">\n",
       "      <th></th>\n",
       "      <th>count</th>\n",
       "      <th>month</th>\n",
       "      <th>year</th>\n",
       "      <th>dayofweek</th>\n",
       "      <th>hour</th>\n",
       "      <th>pickup_community_area</th>\n",
       "    </tr>\n",
       "  </thead>\n",
       "  <tbody>\n",
       "    <tr>\n",
       "      <th>351</th>\n",
       "      <td>3019</td>\n",
       "      <td>12.0</td>\n",
       "      <td>2013.0</td>\n",
       "      <td>5.0</td>\n",
       "      <td>21.0</td>\n",
       "      <td>NaN</td>\n",
       "    </tr>\n",
       "    <tr>\n",
       "      <th>356</th>\n",
       "      <td>4253</td>\n",
       "      <td>5.0</td>\n",
       "      <td>2013.0</td>\n",
       "      <td>4.0</td>\n",
       "      <td>19.0</td>\n",
       "      <td>NaN</td>\n",
       "    </tr>\n",
       "    <tr>\n",
       "      <th>377</th>\n",
       "      <td>2545</td>\n",
       "      <td>10.0</td>\n",
       "      <td>2015.0</td>\n",
       "      <td>4.0</td>\n",
       "      <td>22.0</td>\n",
       "      <td>NaN</td>\n",
       "    </tr>\n",
       "    <tr>\n",
       "      <th>379</th>\n",
       "      <td>5670</td>\n",
       "      <td>6.0</td>\n",
       "      <td>2013.0</td>\n",
       "      <td>1.0</td>\n",
       "      <td>0.0</td>\n",
       "      <td>NaN</td>\n",
       "    </tr>\n",
       "    <tr>\n",
       "      <th>410</th>\n",
       "      <td>1835</td>\n",
       "      <td>6.0</td>\n",
       "      <td>2016.0</td>\n",
       "      <td>2.0</td>\n",
       "      <td>22.0</td>\n",
       "      <td>NaN</td>\n",
       "    </tr>\n",
       "  </tbody>\n",
       "</table>\n",
       "</div>"
      ],
      "text/plain": [
       "     count  month    year  dayofweek  hour  pickup_community_area\n",
       "351   3019   12.0  2013.0        5.0  21.0                    NaN\n",
       "356   4253    5.0  2013.0        4.0  19.0                    NaN\n",
       "377   2545   10.0  2015.0        4.0  22.0                    NaN\n",
       "379   5670    6.0  2013.0        1.0   0.0                    NaN\n",
       "410   1835    6.0  2016.0        2.0  22.0                    NaN"
      ]
     },
     "execution_count": 49,
     "metadata": {},
     "output_type": "execute_result"
    }
   ],
   "source": [
    "nan_rows = df[df.isnull().T.any().T]\n",
    "nan_rows.head()"
   ]
  },
  {
   "cell_type": "code",
   "execution_count": 50,
   "metadata": {},
   "outputs": [
    {
     "data": {
      "text/plain": [
       "2820708"
      ]
     },
     "execution_count": 50,
     "metadata": {},
     "output_type": "execute_result"
    }
   ],
   "source": [
    "df=df.dropna(subset=['pickup_community_area'])\n",
    "df.size"
   ]
  },
  {
   "cell_type": "code",
   "execution_count": 51,
   "metadata": {},
   "outputs": [
    {
     "data": {
      "text/html": [
       "<div>\n",
       "<style scoped>\n",
       "    .dataframe tbody tr th:only-of-type {\n",
       "        vertical-align: middle;\n",
       "    }\n",
       "\n",
       "    .dataframe tbody tr th {\n",
       "        vertical-align: top;\n",
       "    }\n",
       "\n",
       "    .dataframe thead th {\n",
       "        text-align: right;\n",
       "    }\n",
       "</style>\n",
       "<table border=\"1\" class=\"dataframe\">\n",
       "  <thead>\n",
       "    <tr style=\"text-align: right;\">\n",
       "      <th></th>\n",
       "      <th>count</th>\n",
       "      <th>month</th>\n",
       "      <th>year</th>\n",
       "      <th>dayofweek</th>\n",
       "      <th>hour</th>\n",
       "      <th>pickup_community_area</th>\n",
       "    </tr>\n",
       "  </thead>\n",
       "  <tbody>\n",
       "    <tr>\n",
       "      <th>0</th>\n",
       "      <td>2742</td>\n",
       "      <td>11</td>\n",
       "      <td>2014</td>\n",
       "      <td>7</td>\n",
       "      <td>21</td>\n",
       "      <td>32</td>\n",
       "    </tr>\n",
       "    <tr>\n",
       "      <th>1</th>\n",
       "      <td>200</td>\n",
       "      <td>11</td>\n",
       "      <td>2014</td>\n",
       "      <td>6</td>\n",
       "      <td>23</td>\n",
       "      <td>77</td>\n",
       "    </tr>\n",
       "    <tr>\n",
       "      <th>2</th>\n",
       "      <td>110</td>\n",
       "      <td>4</td>\n",
       "      <td>2014</td>\n",
       "      <td>7</td>\n",
       "      <td>19</td>\n",
       "      <td>16</td>\n",
       "    </tr>\n",
       "    <tr>\n",
       "      <th>3</th>\n",
       "      <td>3205</td>\n",
       "      <td>12</td>\n",
       "      <td>2016</td>\n",
       "      <td>4</td>\n",
       "      <td>16</td>\n",
       "      <td>8</td>\n",
       "    </tr>\n",
       "    <tr>\n",
       "      <th>4</th>\n",
       "      <td>1159</td>\n",
       "      <td>12</td>\n",
       "      <td>2014</td>\n",
       "      <td>7</td>\n",
       "      <td>22</td>\n",
       "      <td>24</td>\n",
       "    </tr>\n",
       "  </tbody>\n",
       "</table>\n",
       "</div>"
      ],
      "text/plain": [
       "   count  month  year  dayofweek  hour  pickup_community_area\n",
       "0   2742     11  2014          7    21                     32\n",
       "1    200     11  2014          6    23                     77\n",
       "2    110      4  2014          7    19                     16\n",
       "3   3205     12  2016          4    16                      8\n",
       "4   1159     12  2014          7    22                     24"
      ]
     },
     "execution_count": 51,
     "metadata": {},
     "output_type": "execute_result"
    }
   ],
   "source": [
    "df.year = df.year.astype(int)\n",
    "df.month = df.month.astype(int)\n",
    "df.hour = df.hour.astype(int)\n",
    "df.dayofweek = df.dayofweek.astype(int)\n",
    "df.pickup_community_area = df.pickup_community_area.astype(int)\n",
    "df.head()"
   ]
  },
  {
   "cell_type": "code",
   "execution_count": 52,
   "metadata": {},
   "outputs": [
    {
     "data": {
      "text/html": [
       "<div>\n",
       "<style scoped>\n",
       "    .dataframe tbody tr th:only-of-type {\n",
       "        vertical-align: middle;\n",
       "    }\n",
       "\n",
       "    .dataframe tbody tr th {\n",
       "        vertical-align: top;\n",
       "    }\n",
       "\n",
       "    .dataframe thead th {\n",
       "        text-align: right;\n",
       "    }\n",
       "</style>\n",
       "<table border=\"1\" class=\"dataframe\">\n",
       "  <thead>\n",
       "    <tr style=\"text-align: right;\">\n",
       "      <th></th>\n",
       "      <th>count</th>\n",
       "      <th>month</th>\n",
       "      <th>year</th>\n",
       "      <th>dayofweek</th>\n",
       "      <th>hour</th>\n",
       "      <th>pickup_community_area</th>\n",
       "    </tr>\n",
       "  </thead>\n",
       "  <tbody>\n",
       "    <tr>\n",
       "      <th>7179</th>\n",
       "      <td>1</td>\n",
       "      <td>11</td>\n",
       "      <td>2014</td>\n",
       "      <td>7</td>\n",
       "      <td>18</td>\n",
       "      <td>18</td>\n",
       "    </tr>\n",
       "    <tr>\n",
       "      <th>13993</th>\n",
       "      <td>2</td>\n",
       "      <td>11</td>\n",
       "      <td>2014</td>\n",
       "      <td>7</td>\n",
       "      <td>18</td>\n",
       "      <td>59</td>\n",
       "    </tr>\n",
       "    <tr>\n",
       "      <th>48006</th>\n",
       "      <td>4024</td>\n",
       "      <td>11</td>\n",
       "      <td>2014</td>\n",
       "      <td>7</td>\n",
       "      <td>18</td>\n",
       "      <td>32</td>\n",
       "    </tr>\n",
       "    <tr>\n",
       "      <th>48298</th>\n",
       "      <td>1066</td>\n",
       "      <td>11</td>\n",
       "      <td>2014</td>\n",
       "      <td>7</td>\n",
       "      <td>18</td>\n",
       "      <td>24</td>\n",
       "    </tr>\n",
       "    <tr>\n",
       "      <th>87560</th>\n",
       "      <td>12</td>\n",
       "      <td>11</td>\n",
       "      <td>2014</td>\n",
       "      <td>7</td>\n",
       "      <td>18</td>\n",
       "      <td>17</td>\n",
       "    </tr>\n",
       "  </tbody>\n",
       "</table>\n",
       "</div>"
      ],
      "text/plain": [
       "       count  month  year  dayofweek  hour  pickup_community_area\n",
       "7179       1     11  2014          7    18                     18\n",
       "13993      2     11  2014          7    18                     59\n",
       "48006   4024     11  2014          7    18                     32\n",
       "48298   1066     11  2014          7    18                     24\n",
       "87560     12     11  2014          7    18                     17"
      ]
     },
     "execution_count": 52,
     "metadata": {},
     "output_type": "execute_result"
    }
   ],
   "source": [
    "df=df[df.year == 2014]\n",
    "df=df[df.dayofweek == 7]\n",
    "df=df[df.hour == 18]\n",
    "df=df[df.month == 11]\n",
    "df.head()"
   ]
  },
  {
   "cell_type": "code",
   "execution_count": 53,
   "metadata": {},
   "outputs": [
    {
     "data": {
      "text/plain": [
       "324"
      ]
     },
     "execution_count": 53,
     "metadata": {},
     "output_type": "execute_result"
    }
   ],
   "source": [
    "df.size"
   ]
  },
  {
   "cell_type": "code",
   "execution_count": null,
   "metadata": {},
   "outputs": [],
   "source": [
    "#df= df.drop([\"month\", \"year\", \"dayofweek\", \"hour\"], axis=1)"
   ]
  },
  {
   "cell_type": "code",
   "execution_count": 60,
   "metadata": {},
   "outputs": [
    {
     "data": {
      "text/plain": [
       "Index(['count', 'pickup_community_area'], dtype='object')"
      ]
     },
     "execution_count": 60,
     "metadata": {},
     "output_type": "execute_result"
    }
   ],
   "source": [
    "df.columns"
   ]
  },
  {
   "cell_type": "code",
   "execution_count": 62,
   "metadata": {},
   "outputs": [
    {
     "data": {
      "text/html": [
       "<div>\n",
       "<style scoped>\n",
       "    .dataframe tbody tr th:only-of-type {\n",
       "        vertical-align: middle;\n",
       "    }\n",
       "\n",
       "    .dataframe tbody tr th {\n",
       "        vertical-align: top;\n",
       "    }\n",
       "\n",
       "    .dataframe thead th {\n",
       "        text-align: right;\n",
       "    }\n",
       "</style>\n",
       "<table border=\"1\" class=\"dataframe\">\n",
       "  <thead>\n",
       "    <tr style=\"text-align: right;\">\n",
       "      <th></th>\n",
       "      <th>count</th>\n",
       "      <th>pickup_community_area</th>\n",
       "    </tr>\n",
       "  </thead>\n",
       "  <tbody>\n",
       "    <tr>\n",
       "      <th>7179</th>\n",
       "      <td>1</td>\n",
       "      <td>18</td>\n",
       "    </tr>\n",
       "    <tr>\n",
       "      <th>13993</th>\n",
       "      <td>2</td>\n",
       "      <td>59</td>\n",
       "    </tr>\n",
       "    <tr>\n",
       "      <th>48006</th>\n",
       "      <td>4024</td>\n",
       "      <td>32</td>\n",
       "    </tr>\n",
       "    <tr>\n",
       "      <th>48298</th>\n",
       "      <td>1066</td>\n",
       "      <td>24</td>\n",
       "    </tr>\n",
       "    <tr>\n",
       "      <th>87560</th>\n",
       "      <td>12</td>\n",
       "      <td>17</td>\n",
       "    </tr>\n",
       "  </tbody>\n",
       "</table>\n",
       "</div>"
      ],
      "text/plain": [
       "       count  pickup_community_area\n",
       "7179       1                     18\n",
       "13993      2                     59\n",
       "48006   4024                     32\n",
       "48298   1066                     24\n",
       "87560     12                     17"
      ]
     },
     "execution_count": 62,
     "metadata": {},
     "output_type": "execute_result"
    }
   ],
   "source": [
    "df.head()"
   ]
  },
  {
   "cell_type": "code",
   "execution_count": 71,
   "metadata": {},
   "outputs": [],
   "source": [
    "df.to_csv(\"out.csv\", index=False)"
   ]
  },
  {
   "cell_type": "code",
   "execution_count": 72,
   "metadata": {},
   "outputs": [
    {
     "name": "stdout",
     "output_type": "stream",
     "text": [
      "0\t1\t2\t3\t4\t5\t6\t7\t8\t10\t11\t12\t13\t14\t15\t16\t17\t18\t19\t20\t21\t22\t23\t24\t25\t27\t28\t29\t30\t31\t32\t33\t34\t35\t37\t38\t39\t41\t42\t43\t44\t45\t46\t49\t56\t58\t59\t60\t61\t65\t67\t68\t69\t76\t77\t\n",
      "1\t0\t-38\t-398\t-88\t-215\t-1970\t-1824\t-7283\t50\t41\t52\t51\t15\t49\t-33\t49\t60\t56\t60\t-1\t-343\t56\t-1005\t59\t60\t-1541\t55\t58\t44\t-3963\t-719\t32\t38\t59\t55\t42\t-27\t55\t58\t60\t59\t60\t60\t-223\t58\t59\t53\t58\t60\t60\t59\t57\t-1017\t-193\t\n",
      "2\t38\t0\t-360\t-50\t-177\t-1932\t-1786\t-7245\t88\t79\t90\t89\t53\t87\t5\t87\t98\t94\t98\t37\t-305\t94\t-967\t97\t98\t-1503\t93\t96\t82\t-3925\t-681\t70\t76\t97\t93\t80\t11\t93\t96\t98\t97\t98\t98\t-185\t96\t97\t91\t96\t98\t98\t97\t95\t-979\t-155\t\n",
      "3\t398\t360\t0\t310\t183\t-1572\t-1426\t-6885\t448\t439\t450\t449\t413\t447\t365\t447\t458\t454\t458\t397\t55\t454\t-607\t457\t458\t-1143\t453\t456\t442\t-3565\t-321\t430\t436\t457\t453\t440\t371\t453\t456\t458\t457\t458\t458\t175\t456\t457\t451\t456\t458\t458\t457\t455\t-619\t205\t\n",
      "4\t88\t50\t-310\t0\t-127\t-1882\t-1736\t-7195\t138\t129\t140\t139\t103\t137\t55\t137\t148\t144\t148\t87\t-255\t144\t-917\t147\t148\t-1453\t143\t146\t132\t-3875\t-631\t120\t126\t147\t143\t130\t61\t143\t146\t148\t147\t148\t148\t-135\t146\t147\t141\t146\t148\t148\t147\t145\t-929\t-105\t\n",
      "5\t215\t177\t-183\t127\t0\t-1755\t-1609\t-7068\t265\t256\t267\t266\t230\t264\t182\t264\t275\t271\t275\t214\t-128\t271\t-790\t274\t275\t-1326\t270\t273\t259\t-3748\t-504\t247\t253\t274\t270\t257\t188\t270\t273\t275\t274\t275\t275\t-8\t273\t274\t268\t273\t275\t275\t274\t272\t-802\t22\t\n",
      "6\t1970\t1932\t1572\t1882\t1755\t0\t146\t-5313\t2020\t2011\t2022\t2021\t1985\t2019\t1937\t2019\t2030\t2026\t2030\t1969\t1627\t2026\t965\t2029\t2030\t429\t2025\t2028\t2014\t-1993\t1251\t2002\t2008\t2029\t2025\t2012\t1943\t2025\t2028\t2030\t2029\t2030\t2030\t1747\t2028\t2029\t2023\t2028\t2030\t2030\t2029\t2027\t953\t1777\t\n",
      "7\t1824\t1786\t1426\t1736\t1609\t-146\t0\t-5459\t1874\t1865\t1876\t1875\t1839\t1873\t1791\t1873\t1884\t1880\t1884\t1823\t1481\t1880\t819\t1883\t1884\t283\t1879\t1882\t1868\t-2139\t1105\t1856\t1862\t1883\t1879\t1866\t1797\t1879\t1882\t1884\t1883\t1884\t1884\t1601\t1882\t1883\t1877\t1882\t1884\t1884\t1883\t1881\t807\t1631\t\n",
      "8\t7283\t7245\t6885\t7195\t7068\t5313\t5459\t0\t7333\t7324\t7335\t7334\t7298\t7332\t7250\t7332\t7343\t7339\t7343\t7282\t6940\t7339\t6278\t7342\t7343\t5742\t7338\t7341\t7327\t3320\t6564\t7315\t7321\t7342\t7338\t7325\t7256\t7338\t7341\t7343\t7342\t7343\t7343\t7060\t7341\t7342\t7336\t7341\t7343\t7343\t7342\t7340\t6266\t7090\t\n",
      "10\t-50\t-88\t-448\t-138\t-265\t-2020\t-1874\t-7333\t0\t-9\t2\t1\t-35\t-1\t-83\t-1\t10\t6\t10\t-51\t-393\t6\t-1055\t9\t10\t-1591\t5\t8\t-6\t-4013\t-769\t-18\t-12\t9\t5\t-8\t-77\t5\t8\t10\t9\t10\t10\t-273\t8\t9\t3\t8\t10\t10\t9\t7\t-1067\t-243\t\n",
      "11\t-41\t-79\t-439\t-129\t-256\t-2011\t-1865\t-7324\t9\t0\t11\t10\t-26\t8\t-74\t8\t19\t15\t19\t-42\t-384\t15\t-1046\t18\t19\t-1582\t14\t17\t3\t-4004\t-760\t-9\t-3\t18\t14\t1\t-68\t14\t17\t19\t18\t19\t19\t-264\t17\t18\t12\t17\t19\t19\t18\t16\t-1058\t-234\t\n",
      "12\t-52\t-90\t-450\t-140\t-267\t-2022\t-1876\t-7335\t-2\t-11\t0\t-1\t-37\t-3\t-85\t-3\t8\t4\t8\t-53\t-395\t4\t-1057\t7\t8\t-1593\t3\t6\t-8\t-4015\t-771\t-20\t-14\t7\t3\t-10\t-79\t3\t6\t8\t7\t8\t8\t-275\t6\t7\t1\t6\t8\t8\t7\t5\t-1069\t-245\t\n",
      "13\t-51\t-89\t-449\t-139\t-266\t-2021\t-1875\t-7334\t-1\t-10\t1\t0\t-36\t-2\t-84\t-2\t9\t5\t9\t-52\t-394\t5\t-1056\t8\t9\t-1592\t4\t7\t-7\t-4014\t-770\t-19\t-13\t8\t4\t-9\t-78\t4\t7\t9\t8\t9\t9\t-274\t7\t8\t2\t7\t9\t9\t8\t6\t-1068\t-244\t\n",
      "14\t-15\t-53\t-413\t-103\t-230\t-1985\t-1839\t-7298\t35\t26\t37\t36\t0\t34\t-48\t34\t45\t41\t45\t-16\t-358\t41\t-1020\t44\t45\t-1556\t40\t43\t29\t-3978\t-734\t17\t23\t44\t40\t27\t-42\t40\t43\t45\t44\t45\t45\t-238\t43\t44\t38\t43\t45\t45\t44\t42\t-1032\t-208\t\n",
      "15\t-49\t-87\t-447\t-137\t-264\t-2019\t-1873\t-7332\t1\t-8\t3\t2\t-34\t0\t-82\t0\t11\t7\t11\t-50\t-392\t7\t-1054\t10\t11\t-1590\t6\t9\t-5\t-4012\t-768\t-17\t-11\t10\t6\t-7\t-76\t6\t9\t11\t10\t11\t11\t-272\t9\t10\t4\t9\t11\t11\t10\t8\t-1066\t-242\t\n",
      "16\t33\t-5\t-365\t-55\t-182\t-1937\t-1791\t-7250\t83\t74\t85\t84\t48\t82\t0\t82\t93\t89\t93\t32\t-310\t89\t-972\t92\t93\t-1508\t88\t91\t77\t-3930\t-686\t65\t71\t92\t88\t75\t6\t88\t91\t93\t92\t93\t93\t-190\t91\t92\t86\t91\t93\t93\t92\t90\t-984\t-160\t\n",
      "17\t-49\t-87\t-447\t-137\t-264\t-2019\t-1873\t-7332\t1\t-8\t3\t2\t-34\t0\t-82\t0\t11\t7\t11\t-50\t-392\t7\t-1054\t10\t11\t-1590\t6\t9\t-5\t-4012\t-768\t-17\t-11\t10\t6\t-7\t-76\t6\t9\t11\t10\t11\t11\t-272\t9\t10\t4\t9\t11\t11\t10\t8\t-1066\t-242\t\n",
      "18\t-60\t-98\t-458\t-148\t-275\t-2030\t-1884\t-7343\t-10\t-19\t-8\t-9\t-45\t-11\t-93\t-11\t0\t-4\t0\t-61\t-403\t-4\t-1065\t-1\t0\t-1601\t-5\t-2\t-16\t-4023\t-779\t-28\t-22\t-1\t-5\t-18\t-87\t-5\t-2\t0\t-1\t0\t0\t-283\t-2\t-1\t-7\t-2\t0\t0\t-1\t-3\t-1077\t-253\t\n",
      "19\t-56\t-94\t-454\t-144\t-271\t-2026\t-1880\t-7339\t-6\t-15\t-4\t-5\t-41\t-7\t-89\t-7\t4\t0\t4\t-57\t-399\t0\t-1061\t3\t4\t-1597\t-1\t2\t-12\t-4019\t-775\t-24\t-18\t3\t-1\t-14\t-83\t-1\t2\t4\t3\t4\t4\t-279\t2\t3\t-3\t2\t4\t4\t3\t1\t-1073\t-249\t\n",
      "20\t-60\t-98\t-458\t-148\t-275\t-2030\t-1884\t-7343\t-10\t-19\t-8\t-9\t-45\t-11\t-93\t-11\t0\t-4\t0\t-61\t-403\t-4\t-1065\t-1\t0\t-1601\t-5\t-2\t-16\t-4023\t-779\t-28\t-22\t-1\t-5\t-18\t-87\t-5\t-2\t0\t-1\t0\t0\t-283\t-2\t-1\t-7\t-2\t0\t0\t-1\t-3\t-1077\t-253\t\n",
      "21\t1\t-37\t-397\t-87\t-214\t-1969\t-1823\t-7282\t51\t42\t53\t52\t16\t50\t-32\t50\t61\t57\t61\t0\t-342\t57\t-1004\t60\t61\t-1540\t56\t59\t45\t-3962\t-718\t33\t39\t60\t56\t43\t-26\t56\t59\t61\t60\t61\t61\t-222\t59\t60\t54\t59\t61\t61\t60\t58\t-1016\t-192\t\n",
      "22\t343\t305\t-55\t255\t128\t-1627\t-1481\t-6940\t393\t384\t395\t394\t358\t392\t310\t392\t403\t399\t403\t342\t0\t399\t-662\t402\t403\t-1198\t398\t401\t387\t-3620\t-376\t375\t381\t402\t398\t385\t316\t398\t401\t403\t402\t403\t403\t120\t401\t402\t396\t401\t403\t403\t402\t400\t-674\t150\t\n",
      "23\t-56\t-94\t-454\t-144\t-271\t-2026\t-1880\t-7339\t-6\t-15\t-4\t-5\t-41\t-7\t-89\t-7\t4\t0\t4\t-57\t-399\t0\t-1061\t3\t4\t-1597\t-1\t2\t-12\t-4019\t-775\t-24\t-18\t3\t-1\t-14\t-83\t-1\t2\t4\t3\t4\t4\t-279\t2\t3\t-3\t2\t4\t4\t3\t1\t-1073\t-249\t\n",
      "24\t1005\t967\t607\t917\t790\t-965\t-819\t-6278\t1055\t1046\t1057\t1056\t1020\t1054\t972\t1054\t1065\t1061\t1065\t1004\t662\t1061\t0\t1064\t1065\t-536\t1060\t1063\t1049\t-2958\t286\t1037\t1043\t1064\t1060\t1047\t978\t1060\t1063\t1065\t1064\t1065\t1065\t782\t1063\t1064\t1058\t1063\t1065\t1065\t1064\t1062\t-12\t812\t\n",
      "25\t-59\t-97\t-457\t-147\t-274\t-2029\t-1883\t-7342\t-9\t-18\t-7\t-8\t-44\t-10\t-92\t-10\t1\t-3\t1\t-60\t-402\t-3\t-1064\t0\t1\t-1600\t-4\t-1\t-15\t-4022\t-778\t-27\t-21\t0\t-4\t-17\t-86\t-4\t-1\t1\t0\t1\t1\t-282\t-1\t0\t-6\t-1\t1\t1\t0\t-2\t-1076\t-252\t\n",
      "27\t-60\t-98\t-458\t-148\t-275\t-2030\t-1884\t-7343\t-10\t-19\t-8\t-9\t-45\t-11\t-93\t-11\t0\t-4\t0\t-61\t-403\t-4\t-1065\t-1\t0\t-1601\t-5\t-2\t-16\t-4023\t-779\t-28\t-22\t-1\t-5\t-18\t-87\t-5\t-2\t0\t-1\t0\t0\t-283\t-2\t-1\t-7\t-2\t0\t0\t-1\t-3\t-1077\t-253\t\n",
      "28\t1541\t1503\t1143\t1453\t1326\t-429\t-283\t-5742\t1591\t1582\t1593\t1592\t1556\t1590\t1508\t1590\t1601\t1597\t1601\t1540\t1198\t1597\t536\t1600\t1601\t0\t1596\t1599\t1585\t-2422\t822\t1573\t1579\t1600\t1596\t1583\t1514\t1596\t1599\t1601\t1600\t1601\t1601\t1318\t1599\t1600\t1594\t1599\t1601\t1601\t1600\t1598\t524\t1348\t\n",
      "29\t-55\t-93\t-453\t-143\t-270\t-2025\t-1879\t-7338\t-5\t-14\t-3\t-4\t-40\t-6\t-88\t-6\t5\t1\t5\t-56\t-398\t1\t-1060\t4\t5\t-1596\t0\t3\t-11\t-4018\t-774\t-23\t-17\t4\t0\t-13\t-82\t0\t3\t5\t4\t5\t5\t-278\t3\t4\t-2\t3\t5\t5\t4\t2\t-1072\t-248\t\n",
      "30\t-58\t-96\t-456\t-146\t-273\t-2028\t-1882\t-7341\t-8\t-17\t-6\t-7\t-43\t-9\t-91\t-9\t2\t-2\t2\t-59\t-401\t-2\t-1063\t1\t2\t-1599\t-3\t0\t-14\t-4021\t-777\t-26\t-20\t1\t-3\t-16\t-85\t-3\t0\t2\t1\t2\t2\t-281\t0\t1\t-5\t0\t2\t2\t1\t-1\t-1075\t-251\t\n",
      "31\t-44\t-82\t-442\t-132\t-259\t-2014\t-1868\t-7327\t6\t-3\t8\t7\t-29\t5\t-77\t5\t16\t12\t16\t-45\t-387\t12\t-1049\t15\t16\t-1585\t11\t14\t0\t-4007\t-763\t-12\t-6\t15\t11\t-2\t-71\t11\t14\t16\t15\t16\t16\t-267\t14\t15\t9\t14\t16\t16\t15\t13\t-1061\t-237\t\n",
      "32\t3963\t3925\t3565\t3875\t3748\t1993\t2139\t-3320\t4013\t4004\t4015\t4014\t3978\t4012\t3930\t4012\t4023\t4019\t4023\t3962\t3620\t4019\t2958\t4022\t4023\t2422\t4018\t4021\t4007\t0\t3244\t3995\t4001\t4022\t4018\t4005\t3936\t4018\t4021\t4023\t4022\t4023\t4023\t3740\t4021\t4022\t4016\t4021\t4023\t4023\t4022\t4020\t2946\t3770\t\n",
      "33\t719\t681\t321\t631\t504\t-1251\t-1105\t-6564\t769\t760\t771\t770\t734\t768\t686\t768\t779\t775\t779\t718\t376\t775\t-286\t778\t779\t-822\t774\t777\t763\t-3244\t0\t751\t757\t778\t774\t761\t692\t774\t777\t779\t778\t779\t779\t496\t777\t778\t772\t777\t779\t779\t778\t776\t-298\t526\t\n",
      "34\t-32\t-70\t-430\t-120\t-247\t-2002\t-1856\t-7315\t18\t9\t20\t19\t-17\t17\t-65\t17\t28\t24\t28\t-33\t-375\t24\t-1037\t27\t28\t-1573\t23\t26\t12\t-3995\t-751\t0\t6\t27\t23\t10\t-59\t23\t26\t28\t27\t28\t28\t-255\t26\t27\t21\t26\t28\t28\t27\t25\t-1049\t-225\t\n",
      "35\t-38\t-76\t-436\t-126\t-253\t-2008\t-1862\t-7321\t12\t3\t14\t13\t-23\t11\t-71\t11\t22\t18\t22\t-39\t-381\t18\t-1043\t21\t22\t-1579\t17\t20\t6\t-4001\t-757\t-6\t0\t21\t17\t4\t-65\t17\t20\t22\t21\t22\t22\t-261\t20\t21\t15\t20\t22\t22\t21\t19\t-1055\t-231\t\n",
      "37\t-59\t-97\t-457\t-147\t-274\t-2029\t-1883\t-7342\t-9\t-18\t-7\t-8\t-44\t-10\t-92\t-10\t1\t-3\t1\t-60\t-402\t-3\t-1064\t0\t1\t-1600\t-4\t-1\t-15\t-4022\t-778\t-27\t-21\t0\t-4\t-17\t-86\t-4\t-1\t1\t0\t1\t1\t-282\t-1\t0\t-6\t-1\t1\t1\t0\t-2\t-1076\t-252\t\n",
      "38\t-55\t-93\t-453\t-143\t-270\t-2025\t-1879\t-7338\t-5\t-14\t-3\t-4\t-40\t-6\t-88\t-6\t5\t1\t5\t-56\t-398\t1\t-1060\t4\t5\t-1596\t0\t3\t-11\t-4018\t-774\t-23\t-17\t4\t0\t-13\t-82\t0\t3\t5\t4\t5\t5\t-278\t3\t4\t-2\t3\t5\t5\t4\t2\t-1072\t-248\t\n",
      "39\t-42\t-80\t-440\t-130\t-257\t-2012\t-1866\t-7325\t8\t-1\t10\t9\t-27\t7\t-75\t7\t18\t14\t18\t-43\t-385\t14\t-1047\t17\t18\t-1583\t13\t16\t2\t-4005\t-761\t-10\t-4\t17\t13\t0\t-69\t13\t16\t18\t17\t18\t18\t-265\t16\t17\t11\t16\t18\t18\t17\t15\t-1059\t-235\t\n",
      "41\t27\t-11\t-371\t-61\t-188\t-1943\t-1797\t-7256\t77\t68\t79\t78\t42\t76\t-6\t76\t87\t83\t87\t26\t-316\t83\t-978\t86\t87\t-1514\t82\t85\t71\t-3936\t-692\t59\t65\t86\t82\t69\t0\t82\t85\t87\t86\t87\t87\t-196\t85\t86\t80\t85\t87\t87\t86\t84\t-990\t-166\t\n",
      "42\t-55\t-93\t-453\t-143\t-270\t-2025\t-1879\t-7338\t-5\t-14\t-3\t-4\t-40\t-6\t-88\t-6\t5\t1\t5\t-56\t-398\t1\t-1060\t4\t5\t-1596\t0\t3\t-11\t-4018\t-774\t-23\t-17\t4\t0\t-13\t-82\t0\t3\t5\t4\t5\t5\t-278\t3\t4\t-2\t3\t5\t5\t4\t2\t-1072\t-248\t\n",
      "43\t-58\t-96\t-456\t-146\t-273\t-2028\t-1882\t-7341\t-8\t-17\t-6\t-7\t-43\t-9\t-91\t-9\t2\t-2\t2\t-59\t-401\t-2\t-1063\t1\t2\t-1599\t-3\t0\t-14\t-4021\t-777\t-26\t-20\t1\t-3\t-16\t-85\t-3\t0\t2\t1\t2\t2\t-281\t0\t1\t-5\t0\t2\t2\t1\t-1\t-1075\t-251\t\n",
      "44\t-60\t-98\t-458\t-148\t-275\t-2030\t-1884\t-7343\t-10\t-19\t-8\t-9\t-45\t-11\t-93\t-11\t0\t-4\t0\t-61\t-403\t-4\t-1065\t-1\t0\t-1601\t-5\t-2\t-16\t-4023\t-779\t-28\t-22\t-1\t-5\t-18\t-87\t-5\t-2\t0\t-1\t0\t0\t-283\t-2\t-1\t-7\t-2\t0\t0\t-1\t-3\t-1077\t-253\t\n",
      "45\t-59\t-97\t-457\t-147\t-274\t-2029\t-1883\t-7342\t-9\t-18\t-7\t-8\t-44\t-10\t-92\t-10\t1\t-3\t1\t-60\t-402\t-3\t-1064\t0\t1\t-1600\t-4\t-1\t-15\t-4022\t-778\t-27\t-21\t0\t-4\t-17\t-86\t-4\t-1\t1\t0\t1\t1\t-282\t-1\t0\t-6\t-1\t1\t1\t0\t-2\t-1076\t-252\t\n",
      "46\t-60\t-98\t-458\t-148\t-275\t-2030\t-1884\t-7343\t-10\t-19\t-8\t-9\t-45\t-11\t-93\t-11\t0\t-4\t0\t-61\t-403\t-4\t-1065\t-1\t0\t-1601\t-5\t-2\t-16\t-4023\t-779\t-28\t-22\t-1\t-5\t-18\t-87\t-5\t-2\t0\t-1\t0\t0\t-283\t-2\t-1\t-7\t-2\t0\t0\t-1\t-3\t-1077\t-253\t\n",
      "49\t-60\t-98\t-458\t-148\t-275\t-2030\t-1884\t-7343\t-10\t-19\t-8\t-9\t-45\t-11\t-93\t-11\t0\t-4\t0\t-61\t-403\t-4\t-1065\t-1\t0\t-1601\t-5\t-2\t-16\t-4023\t-779\t-28\t-22\t-1\t-5\t-18\t-87\t-5\t-2\t0\t-1\t0\t0\t-283\t-2\t-1\t-7\t-2\t0\t0\t-1\t-3\t-1077\t-253\t\n",
      "56\t223\t185\t-175\t135\t8\t-1747\t-1601\t-7060\t273\t264\t275\t274\t238\t272\t190\t272\t283\t279\t283\t222\t-120\t279\t-782\t282\t283\t-1318\t278\t281\t267\t-3740\t-496\t255\t261\t282\t278\t265\t196\t278\t281\t283\t282\t283\t283\t0\t281\t282\t276\t281\t283\t283\t282\t280\t-794\t30\t\n",
      "58\t-58\t-96\t-456\t-146\t-273\t-2028\t-1882\t-7341\t-8\t-17\t-6\t-7\t-43\t-9\t-91\t-9\t2\t-2\t2\t-59\t-401\t-2\t-1063\t1\t2\t-1599\t-3\t0\t-14\t-4021\t-777\t-26\t-20\t1\t-3\t-16\t-85\t-3\t0\t2\t1\t2\t2\t-281\t0\t1\t-5\t0\t2\t2\t1\t-1\t-1075\t-251\t\n",
      "59\t-59\t-97\t-457\t-147\t-274\t-2029\t-1883\t-7342\t-9\t-18\t-7\t-8\t-44\t-10\t-92\t-10\t1\t-3\t1\t-60\t-402\t-3\t-1064\t0\t1\t-1600\t-4\t-1\t-15\t-4022\t-778\t-27\t-21\t0\t-4\t-17\t-86\t-4\t-1\t1\t0\t1\t1\t-282\t-1\t0\t-6\t-1\t1\t1\t0\t-2\t-1076\t-252\t\n",
      "60\t-53\t-91\t-451\t-141\t-268\t-2023\t-1877\t-7336\t-3\t-12\t-1\t-2\t-38\t-4\t-86\t-4\t7\t3\t7\t-54\t-396\t3\t-1058\t6\t7\t-1594\t2\t5\t-9\t-4016\t-772\t-21\t-15\t6\t2\t-11\t-80\t2\t5\t7\t6\t7\t7\t-276\t5\t6\t0\t5\t7\t7\t6\t4\t-1070\t-246\t\n",
      "61\t-58\t-96\t-456\t-146\t-273\t-2028\t-1882\t-7341\t-8\t-17\t-6\t-7\t-43\t-9\t-91\t-9\t2\t-2\t2\t-59\t-401\t-2\t-1063\t1\t2\t-1599\t-3\t0\t-14\t-4021\t-777\t-26\t-20\t1\t-3\t-16\t-85\t-3\t0\t2\t1\t2\t2\t-281\t0\t1\t-5\t0\t2\t2\t1\t-1\t-1075\t-251\t\n",
      "65\t-60\t-98\t-458\t-148\t-275\t-2030\t-1884\t-7343\t-10\t-19\t-8\t-9\t-45\t-11\t-93\t-11\t0\t-4\t0\t-61\t-403\t-4\t-1065\t-1\t0\t-1601\t-5\t-2\t-16\t-4023\t-779\t-28\t-22\t-1\t-5\t-18\t-87\t-5\t-2\t0\t-1\t0\t0\t-283\t-2\t-1\t-7\t-2\t0\t0\t-1\t-3\t-1077\t-253\t\n",
      "67\t-60\t-98\t-458\t-148\t-275\t-2030\t-1884\t-7343\t-10\t-19\t-8\t-9\t-45\t-11\t-93\t-11\t0\t-4\t0\t-61\t-403\t-4\t-1065\t-1\t0\t-1601\t-5\t-2\t-16\t-4023\t-779\t-28\t-22\t-1\t-5\t-18\t-87\t-5\t-2\t0\t-1\t0\t0\t-283\t-2\t-1\t-7\t-2\t0\t0\t-1\t-3\t-1077\t-253\t\n",
      "68\t-59\t-97\t-457\t-147\t-274\t-2029\t-1883\t-7342\t-9\t-18\t-7\t-8\t-44\t-10\t-92\t-10\t1\t-3\t1\t-60\t-402\t-3\t-1064\t0\t1\t-1600\t-4\t-1\t-15\t-4022\t-778\t-27\t-21\t0\t-4\t-17\t-86\t-4\t-1\t1\t0\t1\t1\t-282\t-1\t0\t-6\t-1\t1\t1\t0\t-2\t-1076\t-252\t\n",
      "69\t-57\t-95\t-455\t-145\t-272\t-2027\t-1881\t-7340\t-7\t-16\t-5\t-6\t-42\t-8\t-90\t-8\t3\t-1\t3\t-58\t-400\t-1\t-1062\t2\t3\t-1598\t-2\t1\t-13\t-4020\t-776\t-25\t-19\t2\t-2\t-15\t-84\t-2\t1\t3\t2\t3\t3\t-280\t1\t2\t-4\t1\t3\t3\t2\t0\t-1074\t-250\t\n"
     ]
    },
    {
     "name": "stdout",
     "output_type": "stream",
     "text": [
      "76\t1017\t979\t619\t929\t802\t-953\t-807\t-6266\t1067\t1058\t1069\t1068\t1032\t1066\t984\t1066\t1077\t1073\t1077\t1016\t674\t1073\t12\t1076\t1077\t-524\t1072\t1075\t1061\t-2946\t298\t1049\t1055\t1076\t1072\t1059\t990\t1072\t1075\t1077\t1076\t1077\t1077\t794\t1075\t1076\t1070\t1075\t1077\t1077\t1076\t1074\t0\t824\t\n",
      "77\t193\t155\t-205\t105\t-22\t-1777\t-1631\t-7090\t243\t234\t245\t244\t208\t242\t160\t242\t253\t249\t253\t192\t-150\t249\t-812\t252\t253\t-1348\t248\t251\t237\t-3770\t-526\t225\t231\t252\t248\t235\t166\t248\t251\t253\t252\t253\t253\t-30\t251\t252\t246\t251\t253\t253\t252\t250\t-824\t0\t\n"
     ]
    }
   ],
   "source": [
    "import csv\n",
    "\n",
    "\n",
    "def main():\n",
    "    # Dictionary to store the count of each community\n",
    "    count_dict = {}\n",
    "    # Open the file\n",
    "    with open('out.csv') as csv_file:\n",
    "        csv_reader = csv.reader(csv_file, delimiter=',')\n",
    "        # Count the number of rows\n",
    "        num_rows = 0\n",
    "        for row in csv_reader:\n",
    "            # If it's the first row, do nothing\n",
    "            if num_rows != 0:\n",
    "                count_dict[int(row[1])] = int(row[0])\n",
    "            num_rows += 1\n",
    "        # for each key in the dict\n",
    "\n",
    "        print(0, end=\"\\t\")\n",
    "        for key in sorted(count_dict.keys()):\n",
    "            print(key, end=\"\\t\")\n",
    "        print()\n",
    "        # For each key\n",
    "        for key in sorted(count_dict.keys()):\n",
    "            # Print the key\n",
    "            print(key, end=\"\\t\")\n",
    "            # get all the other keys\n",
    "            for key2 in sorted(count_dict.keys()):\n",
    "                # Print the difference\n",
    "                print(count_dict[key] - count_dict[key2], end=\"\\t\")\n",
    "            # print an empty line\n",
    "            print()\n",
    "main()"
   ]
  },
  {
   "cell_type": "code",
   "execution_count": null,
   "metadata": {},
   "outputs": [],
   "source": []
  }
 ],
 "metadata": {
  "kernelspec": {
   "display_name": "Python 3",
   "language": "python",
   "name": "python3"
  },
  "language_info": {
   "codemirror_mode": {
    "name": "ipython",
    "version": 3
   },
   "file_extension": ".py",
   "mimetype": "text/x-python",
   "name": "python",
   "nbconvert_exporter": "python",
   "pygments_lexer": "ipython3",
   "version": "3.6.8"
  }
 },
 "nbformat": 4,
 "nbformat_minor": 2
}
