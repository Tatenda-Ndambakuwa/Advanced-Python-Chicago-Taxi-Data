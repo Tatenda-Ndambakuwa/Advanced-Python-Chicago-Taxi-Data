{
 "cells": [
  {
   "cell_type": "markdown",
   "metadata": {},
   "source": [
    "# Pyspark"
   ]
  },
  {
   "cell_type": "code",
   "execution_count": 25,
   "metadata": {},
   "outputs": [
    {
     "name": "stdout",
     "output_type": "stream",
     "text": [
      "total_dist: [1.58433160e+05 9.61615268e-06 1.19570174e+05 4.01246465e-05\n",
      " 2.13783830e-02 1.08939253e+05 6.55013893e+04 3.19330488e+06\n",
      " 6.33020839e-06 1.04509762e+05] \n",
      "\n",
      "run_time: 0.151669\n"
     ]
    }
   ],
   "source": [
    "import pyopencl as cl  # Import the OpenCL GPU computing API\n",
    "from pyopencl import clmath\n",
    "import pyopencl.array as pycl_array  # Import PyOpenCL Array \n",
    "import numpy as np  # Import Numpy number tools\n",
    "\n",
    "import time\n",
    "\n",
    "start_time = time.time()\n",
    "\n",
    "context = cl.create_some_context()  # Initialize the Context\n",
    "queue = cl.CommandQueue(context)  # Instantiate a Queue\n",
    "\n",
    "# Create 4 random pyopencl arrays representing latitude x and longitude y for pickup point 1 and dropoff point 2\n",
    "x1 = pycl_array.to_device(queue, np.random.uniform(-90.0,90.0,1000000))\n",
    "x2 = pycl_array.to_device(queue, np.random.uniform(-90.0,90.0,1000000))\n",
    "y1 = pycl_array.to_device(queue, np.random.uniform(-180.0,180.0,1000000))\n",
    "y2 = pycl_array.to_device(queue, np.random.uniform(-180.0,180.0,1000000))\n",
    "\n",
    "\n",
    "dist = pycl_array.empty_like(x1)  # Create an empty pyopencl distances array\n",
    "\n",
    "program = cl.Program(context, \"\"\"\n",
    "__kernel void cal_dist(__global const float *x1, __global const float *x2, __global const float *y1, \n",
    "__global const float *y2, __global float *dist)\n",
    "{\n",
    "  int i = get_global_id(0);\n",
    "  dist[i] = (x1[i]-x2[i])*(x1[i]-x2[i]) + (y1[i]-y2[i])*(y1[i]-y2[i]);\n",
    "}\"\"\").build()  # Create the OpenCL program\n",
    "\n",
    "# Enqueue the program for execution and store the result in c\n",
    "program.cal_dist(queue, x1.shape, None, x1.data, x2.data, y1.data, y2.data, dist.data)  \n",
    " \n",
    "sqrt_dist = cl.clmath.sqrt(dist, queue=None)\n",
    "\n",
    "print(\"total_dist: {} \\n\".format(sqrt_dist[:10]))  \n",
    "\n",
    "end_time = time.time()\n",
    "\n",
    "print(\"run_time: %f\" % (end_time - start_time))"
   ]
  },
  {
   "cell_type": "markdown",
   "metadata": {},
   "source": [
    "# Map Reduce\n",
    "To run the job, place the data on HDFS by issuing the command (replace the filename) from within the file directory:"
   ]
  },
  {
   "cell_type": "raw",
   "metadata": {},
   "source": [
    "hfs -put filename.csv"
   ]
  },
  {
   "cell_type": "markdown",
   "metadata": {},
   "source": [
    "The job should be launched by the following command:\n"
   ]
  },
  {
   "cell_type": "raw",
   "metadata": {},
   "source": [
    "hjs -file src/ -mapper src/mapper.sh -reducer src/reducer.sh -input filename.csv -output distance.out"
   ]
  },
  {
   "cell_type": "markdown",
   "metadata": {},
   "source": [
    "The hjs command submits the job; the -file parameter indicates which files will be distributed to the worker nodes (i.e., the source code); the -mapper and -reducer parameters specify the paths to the mapper and reducer scripts; and the -input and -output paths specify the input file(s) and output file paths for the job."
   ]
  },
  {
   "cell_type": "markdown",
   "metadata": {},
   "source": [
    "To get the execution time of the job:"
   ]
  },
  {
   "cell_type": "raw",
   "metadata": {},
   "source": [
    "time hjs -file src/ -mapper src/mapper.sh -reducer src/reducer.sh -input filename.csv -output distance.out"
   ]
  },
  {
   "cell_type": "markdown",
   "metadata": {},
   "source": [
    "To retrieve the results of the computation, run:"
   ]
  },
  {
   "cell_type": "raw",
   "metadata": {},
   "source": [
    "hfs -get distance.out "
   ]
  },
  {
   "cell_type": "markdown",
   "metadata": {},
   "source": [
    "To get all the partial outputs. To get the complete output as one file, run:"
   ]
  },
  {
   "cell_type": "raw",
   "metadata": {},
   "source": [
    "hfs -getmerge distance.out distance_total.out"
   ]
  },
  {
   "cell_type": "markdown",
   "metadata": {},
   "source": [
    "## mapper.py"
   ]
  },
  {
   "cell_type": "code",
   "execution_count": 7,
   "metadata": {},
   "outputs": [],
   "source": [
    "import os\n",
    "import sys\n",
    "import math \n",
    "\n",
    "for line in sys.stdin:\n",
    "        entry = line.strip().split(\",\")\n",
    "        \n",
    "        # Pickup Centroid Latitude, Pickup Centroid Longitude, Dropoff Centroid Latitude and Dropoff Centroid Longitude\n",
    "        pick_la, pick_lon, drop_la, drop_lon = entry[11],entry[12],entry[14],entry[15]\n",
    "        \n",
    "        # pick up community area\n",
    "        area = entry[8]\n",
    "        \n",
    "        # calculate euclidean distance for each trip\n",
    "        dist = math.sqrt((pick_la - drop_la)**2 + (pick_lon - drop_lon)**2)\n",
    "        \n",
    "        print('{}\\t{}'.format(area,dist))\n",
    "        "
   ]
  },
  {
   "cell_type": "markdown",
   "metadata": {},
   "source": [
    "## reducer.py"
   ]
  },
  {
   "cell_type": "code",
   "execution_count": 10,
   "metadata": {},
   "outputs": [],
   "source": [
    "import os\n",
    "import sys\n",
    "\n",
    "current_area = None\n",
    "current_dist = 0.0\n",
    "area = None\n",
    "dist = 0.0\n",
    "\n",
    "# number of trips in this area\n",
    "num_trips = 0\n",
    "\n",
    "for line in sys.stdin:\n",
    "    area, dist = line.split('\\t', 1)\n",
    "            \n",
    "    # convert distance (currently a string) to int\n",
    "    try:\n",
    "        dist = float(dist)\n",
    "    except ValueError:\n",
    "        # dist was not a number, so silently\n",
    "        # ignore/discard this line\n",
    "        continue\n",
    "\n",
    "    # Since Hadoop sorts map output by key (here: area) before it is passed to the reducer\n",
    "    if current_area == area:\n",
    "        current_dist += dist\n",
    "        num_trips += 1\n",
    "    else:\n",
    "        if current_area and i != 0:\n",
    "            # write result to STDOUT\n",
    "            print('{}\\t{}'.format(current_area, current_dist/num_trips))\n",
    "        current_area = area\n",
    "        current_dist = dist\n",
    "        num_trips = 0\n",
    "\n",
    "# Output the last area if needed\n",
    "if current_area == area and num_trips !=0:\n",
    "    print('{}\\t{}'.format(current_area, current_dist/num_trips))"
   ]
  },
  {
   "cell_type": "code",
   "execution_count": null,
   "metadata": {},
   "outputs": [],
   "source": []
  }
 ],
 "metadata": {
  "kernelspec": {
   "display_name": "Python 3",
   "language": "python",
   "name": "python3"
  },
  "language_info": {
   "codemirror_mode": {
    "name": "ipython",
    "version": 3
   },
   "file_extension": ".py",
   "mimetype": "text/x-python",
   "name": "python",
   "nbconvert_exporter": "python",
   "pygments_lexer": "ipython3",
   "version": "3.6.8"
  }
 },
 "nbformat": 4,
 "nbformat_minor": 2
}
