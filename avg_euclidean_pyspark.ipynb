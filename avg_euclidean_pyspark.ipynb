{
 "cells": [
  {
   "cell_type": "markdown",
   "metadata": {},
   "source": [
    "To run the job, place the data on HDFS by issuing the command (replace the filename) from within the file directory:"
   ]
  },
  {
   "cell_type": "raw",
   "metadata": {},
   "source": [
    "hfs -put filename.csv"
   ]
  },
  {
   "cell_type": "markdown",
   "metadata": {},
   "source": [
    "The job should be launched by the following command:\n"
   ]
  },
  {
   "cell_type": "raw",
   "metadata": {},
   "source": [
    "hjs -file src/ -mapper src/mapper.sh -reducer src/reducer.sh -input filename.csv -output distance.out"
   ]
  },
  {
   "cell_type": "markdown",
   "metadata": {},
   "source": [
    "The hjs command submits the job; the -file parameter indicates which files will be distributed to the worker nodes (i.e., the source code); the -mapper and -reducer parameters specify the paths to the mapper and reducer scripts; and the -input and -output paths specify the input file(s) and output file paths for the job."
   ]
  },
  {
   "cell_type": "markdown",
   "metadata": {},
   "source": [
    "To get the execution time of the job:"
   ]
  },
  {
   "cell_type": "raw",
   "metadata": {},
   "source": [
    "time hjs -file src/ -mapper src/mapper.sh -reducer src/reducer.sh -input filename.csv -output distance.out"
   ]
  },
  {
   "cell_type": "markdown",
   "metadata": {},
   "source": [
    "To retrieve the results of the computation, run:"
   ]
  },
  {
   "cell_type": "raw",
   "metadata": {},
   "source": [
    "hfs -get distance.out "
   ]
  },
  {
   "cell_type": "markdown",
   "metadata": {},
   "source": [
    "To get all the partial outputs. To get the complete output as one file, run:"
   ]
  },
  {
   "cell_type": "raw",
   "metadata": {},
   "source": [
    "hfs -getmerge distance.out distance_total.out"
   ]
  },
  {
   "cell_type": "markdown",
   "metadata": {},
   "source": [
    "## mapper.py"
   ]
  },
  {
   "cell_type": "code",
   "execution_count": 7,
   "metadata": {},
   "outputs": [],
   "source": [
    "import os\n",
    "import sys\n",
    "import math \n",
    "\n",
    "for line in sys.stdin:\n",
    "        entry = line.strip().split(\",\")\n",
    "        \n",
    "        # Pickup Centroid Latitude, Pickup Centroid Longitude, Dropoff Centroid Latitude and Dropoff Centroid Longitude\n",
    "        pick_la, pick_lon, drop_la, drop_lon = entry[11],entry[12],entry[14],entry[15]\n",
    "        \n",
    "        # pick up community area\n",
    "        area = entry[8]\n",
    "        \n",
    "        # calculate euclidean distance for each trip\n",
    "        dist = math.sqrt((pick_la - drop_la)**2 + (pick_lon - drop_lon)**2)\n",
    "        \n",
    "        print('{}\\t{}'.format(area,dist))\n",
    "        "
   ]
  },
  {
   "cell_type": "markdown",
   "metadata": {},
   "source": [
    "## reducer.py"
   ]
  },
  {
   "cell_type": "code",
   "execution_count": 10,
   "metadata": {},
   "outputs": [],
   "source": [
    "import os\n",
    "import sys\n",
    "\n",
    "current_area = None\n",
    "current_dist = 0.0\n",
    "area = None\n",
    "dist = 0.0\n",
    "\n",
    "# number of trips in this area\n",
    "num_trips = 0\n",
    "\n",
    "for line in sys.stdin:\n",
    "    area, dist = line.split('\\t', 1)\n",
    "            \n",
    "    # convert distance (currently a string) to int\n",
    "    try:\n",
    "        dist = float(dist)\n",
    "    except ValueError:\n",
    "        # dist was not a number, so silently\n",
    "        # ignore/discard this line\n",
    "        continue\n",
    "\n",
    "    # Since Hadoop sorts map output by key (here: area) before it is passed to the reducer\n",
    "    if current_area == area:\n",
    "        current_dist += dist\n",
    "        num_trips += 1\n",
    "    else:\n",
    "        if current_area and i != 0:\n",
    "            # write result to STDOUT\n",
    "            print('{}\\t{}'.format(current_area, current_dist/num_trips))\n",
    "        current_area = area\n",
    "        current_dist = dist\n",
    "        num_trips = 0\n",
    "\n",
    "# Output the last area if needed\n",
    "if current_area == area and num_trips !=0:\n",
    "    print('{}\\t{}'.format(current_area, current_dist/num_trips))"
   ]
  },
  {
   "cell_type": "code",
   "execution_count": null,
   "metadata": {},
   "outputs": [],
   "source": []
  }
 ],
 "metadata": {
  "kernelspec": {
   "display_name": "Python 3",
   "language": "python",
   "name": "python3"
  },
  "language_info": {
   "codemirror_mode": {
    "name": "ipython",
    "version": 3
   },
   "file_extension": ".py",
   "mimetype": "text/x-python",
   "name": "python",
   "nbconvert_exporter": "python",
   "pygments_lexer": "ipython3",
   "version": "3.6.8"
  }
 },
 "nbformat": 4,
 "nbformat_minor": 2
}
